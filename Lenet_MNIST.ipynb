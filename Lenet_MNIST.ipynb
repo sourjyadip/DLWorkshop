{
  "nbformat": 4,
  "nbformat_minor": 0,
  "metadata": {
    "colab": {
      "name": "Untitled9.ipynb",
      "provenance": [],
      "collapsed_sections": []
    },
    "kernelspec": {
      "name": "python3",
      "display_name": "Python 3"
    }
  },
  "cells": [
    {
      "cell_type": "markdown",
      "metadata": {
        "id": "Xokw6fViuVK0",
        "colab_type": "text"
      },
      "source": [
        "MNIST fashion using TF2 and keras"
      ]
    },
    {
      "cell_type": "code",
      "metadata": {
        "id": "v7mnWleLuUxo",
        "colab_type": "code",
        "outputId": "791da572-707d-4947-87ea-a55bb1a3187d",
        "colab": {
          "base_uri": "https://localhost:8080/",
          "height": 35
        }
      },
      "source": [
        "try:\n",
        "  # %tensorflow_version only exists in Colab.\n",
        "  %tensorflow_version 2.x\n",
        "except Exception:\n",
        "  pass"
      ],
      "execution_count": 0,
      "outputs": [
        {
          "output_type": "stream",
          "text": [
            "TensorFlow 2.x selected.\n"
          ],
          "name": "stdout"
        }
      ]
    },
    {
      "cell_type": "code",
      "metadata": {
        "id": "TF_b177ouf6-",
        "colab_type": "code",
        "outputId": "c0db4a80-27ef-4e42-83d8-8bacf5e36c81",
        "colab": {
          "base_uri": "https://localhost:8080/",
          "height": 35
        }
      },
      "source": [
        "from __future__ import absolute_import, division, print_function, unicode_literals\n",
        "\n",
        "# TensorFlow and tf.keras\n",
        "import tensorflow as tf\n",
        "from tensorflow import keras\n",
        "\n",
        "# Helper libraries\n",
        "import numpy as np\n",
        "import matplotlib.pyplot as plt\n",
        "\n",
        "print(tf.__version__)"
      ],
      "execution_count": 0,
      "outputs": [
        {
          "output_type": "stream",
          "text": [
            "2.1.0\n"
          ],
          "name": "stdout"
        }
      ]
    },
    {
      "cell_type": "code",
      "metadata": {
        "id": "s5JJy4VWunWj",
        "colab_type": "code",
        "outputId": "7b699ed6-0b8c-4446-e4a7-37f9feee26e5",
        "colab": {
          "base_uri": "https://localhost:8080/",
          "height": 156
        }
      },
      "source": [
        "fashion_mnist = keras.datasets.fashion_mnist\n",
        "\n",
        "(train_images, train_labels), (test_images, test_labels) = fashion_mnist.load_data()"
      ],
      "execution_count": 0,
      "outputs": [
        {
          "output_type": "stream",
          "text": [
            "Downloading data from https://storage.googleapis.com/tensorflow/tf-keras-datasets/train-labels-idx1-ubyte.gz\n",
            "32768/29515 [=================================] - 0s 0us/step\n",
            "Downloading data from https://storage.googleapis.com/tensorflow/tf-keras-datasets/train-images-idx3-ubyte.gz\n",
            "26427392/26421880 [==============================] - 0s 0us/step\n",
            "Downloading data from https://storage.googleapis.com/tensorflow/tf-keras-datasets/t10k-labels-idx1-ubyte.gz\n",
            "8192/5148 [===============================================] - 0s 0us/step\n",
            "Downloading data from https://storage.googleapis.com/tensorflow/tf-keras-datasets/t10k-images-idx3-ubyte.gz\n",
            "4423680/4422102 [==============================] - 0s 0us/step\n"
          ],
          "name": "stdout"
        }
      ]
    },
    {
      "cell_type": "code",
      "metadata": {
        "id": "pwDd9jPmuv-B",
        "colab_type": "code",
        "colab": {}
      },
      "source": [
        "class_names = ['T-shirt/top', 'Trouser', 'Pullover', 'Dress', 'Coat',\n",
        "               'Sandal', 'Shirt', 'Sneaker', 'Bag', 'Ankle boot']"
      ],
      "execution_count": 0,
      "outputs": []
    },
    {
      "cell_type": "code",
      "metadata": {
        "id": "rfQFGlaMu0lu",
        "colab_type": "code",
        "outputId": "4cc3e8e5-f55d-4c52-bc93-947ac222afcc",
        "colab": {
          "base_uri": "https://localhost:8080/",
          "height": 87
        }
      },
      "source": [
        "print(train_images.shape)\n",
        "print(train_labels.shape)\n",
        "print(test_images.shape)\n",
        "print(test_labels.shape)"
      ],
      "execution_count": 0,
      "outputs": [
        {
          "output_type": "stream",
          "text": [
            "(60000, 28, 28)\n",
            "(60000,)\n",
            "(10000, 28, 28)\n",
            "(10000,)\n"
          ],
          "name": "stdout"
        }
      ]
    },
    {
      "cell_type": "code",
      "metadata": {
        "id": "7SUv60DE9-Js",
        "colab_type": "code",
        "outputId": "47fe09ee-e5ae-4811-92d1-1a32ccce61b4",
        "colab": {
          "base_uri": "https://localhost:8080/",
          "height": 52
        }
      },
      "source": [
        "npad=((0,0),(2,2),(2,2))\n",
        "train_images=np.pad(train_images, npad, mode='constant')\n",
        "test_images=np.pad(test_images,npad,mode='constant')\n",
        "print(train_images.shape)\n",
        "print(train_images.shape)"
      ],
      "execution_count": 0,
      "outputs": [
        {
          "output_type": "stream",
          "text": [
            "(60000, 32, 32)\n",
            "(60000, 32, 32)\n"
          ],
          "name": "stdout"
        }
      ]
    },
    {
      "cell_type": "code",
      "metadata": {
        "id": "IJjyI8p9vBfY",
        "colab_type": "code",
        "outputId": "91249082-fceb-4fb2-9f0e-ff5981f0aaa8",
        "colab": {
          "base_uri": "https://localhost:8080/",
          "height": 266
        }
      },
      "source": [
        "plt.figure()\n",
        "plt.imshow(train_images[0])\n",
        "plt.colorbar()\n",
        "plt.grid(False)\n",
        "plt.show()"
      ],
      "execution_count": 0,
      "outputs": [
        {
          "output_type": "display_data",
          "data": {
            "image/png": "[encoded data removed]",
            "text/plain": [
              "<Figure size 432x288 with 2 Axes>"
            ]
          },
          "metadata": {
            "tags": []
          }
        }
      ]
    },
    {
      "cell_type": "code",
      "metadata": {
        "id": "IsWz2xEyNG1E",
        "colab_type": "code",
        "outputId": "fe4bed34-2124-4b3e-c905-8742cf3bb8f3",
        "colab": {
          "base_uri": "https://localhost:8080/",
          "height": 266
        }
      },
      "source": [
        "plt.figure()\n",
        "plt.imshow(test_images[5])\n",
        "plt.colorbar()\n",
        "plt.grid(True)\n",
        "plt.show()"
      ],
      "execution_count": 0,
      "outputs": [
        {
          "output_type": "display_data",
          "data": {
            "image/png": "[encoded data removed]",
            "text/plain": [
              "<Figure size 432x288 with 2 Axes>"
            ]
          },
          "metadata": {
            "tags": []
          }
        }
      ]
    },
    {
      "cell_type": "code",
      "metadata": {
        "id": "yruNb5tDvFFJ",
        "colab_type": "code",
        "colab": {}
      },
      "source": [
        "train_images = train_images / 255.0\n",
        "\n",
        "test_images = test_images / 255.0"
      ],
      "execution_count": 0,
      "outputs": []
    },
    {
      "cell_type": "code",
      "metadata": {
        "id": "WOHgsHAbNXVc",
        "colab_type": "code",
        "colab": {}
      },
      "source": [
        "train_images = train_images[..., tf.newaxis]\n",
        "test_images = test_images[...,tf.newaxis]"
      ],
      "execution_count": 0,
      "outputs": []
    },
    {
      "cell_type": "code",
      "metadata": {
        "id": "HHKf7HNDvL6y",
        "colab_type": "code",
        "colab": {}
      },
      "source": [
        "model=keras.Sequential()\n",
        "model.add(keras.layers.Conv2D(filters=6,kernel_size=(5,5),strides=(1,1), activation='relu',input_shape=(32,32,1)))\n",
        "model.add(keras.layers.MaxPooling2D(pool_size=(2,2),strides=(2,2)))\n",
        "model.add(keras.layers.Conv2D(filters=16,kernel_size=(5,5),strides=(1,1), activation='relu'))\n",
        "model.add(keras.layers.MaxPooling2D(pool_size=(2,2),strides=(2,2)))\n",
        "model.add(keras.layers.Flatten())\n",
        "model.add(keras.layers.Dense(units=120, activation='relu'))\n",
        "model.add(keras.layers.Dense(units=84, activation='relu'))\n",
        "model.add(keras.layers.Dense(units=10, activation='softmax'))\n"
      ],
      "execution_count": 0,
      "outputs": []
    },
    {
      "cell_type": "code",
      "metadata": {
        "id": "chO55nBsvTY1",
        "colab_type": "code",
        "colab": {}
      },
      "source": [
        "model.compile(optimizer='adam',\n",
        "              loss='sparse_categorical_crossentropy',\n",
        "              metrics=['accuracy'])"
      ],
      "execution_count": 0,
      "outputs": []
    },
    {
      "cell_type": "code",
      "metadata": {
        "id": "sPESp3gQwHEX",
        "colab_type": "code",
        "outputId": "5cc876cf-2518-45a3-f6b4-59e29053dc6f",
        "colab": {
          "base_uri": "https://localhost:8080/",
          "height": 433
        }
      },
      "source": [
        "model.summary()"
      ],
      "execution_count": 0,
      "outputs": [
        {
          "output_type": "stream",
          "text": [
            "Model: \"sequential\"\n",
            "_________________________________________________________________\n",
            "Layer (type)                 Output Shape              Param #   \n",
            "=================================================================\n",
            "conv2d (Conv2D)              (None, 28, 28, 6)         156       \n",
            "_________________________________________________________________\n",
            "max_pooling2d (MaxPooling2D) (None, 14, 14, 6)         0         \n",
            "_________________________________________________________________\n",
            "conv2d_1 (Conv2D)            (None, 10, 10, 16)        2416      \n",
            "_________________________________________________________________\n",
            "max_pooling2d_1 (MaxPooling2 (None, 5, 5, 16)          0         \n",
            "_________________________________________________________________\n",
            "flatten (Flatten)            (None, 400)               0         \n",
            "_________________________________________________________________\n",
            "dense (Dense)                (None, 120)               48120     \n",
            "_________________________________________________________________\n",
            "dense_1 (Dense)              (None, 84)                10164     \n",
            "_________________________________________________________________\n",
            "dense_2 (Dense)              (None, 10)                850       \n",
            "=================================================================\n",
            "Total params: 61,706\n",
            "Trainable params: 61,706\n",
            "Non-trainable params: 0\n",
            "_________________________________________________________________\n"
          ],
          "name": "stdout"
        }
      ]
    },
    {
      "cell_type": "code",
      "metadata": {
        "id": "jnPLVlMhvUzG",
        "colab_type": "code",
        "outputId": "2d0a9cda-e6a7-4fd9-f95b-a1a7c3139419",
        "colab": {
          "base_uri": "https://localhost:8080/",
          "height": 399
        }
      },
      "source": [
        "model.fit(train_images, train_labels, epochs=10)"
      ],
      "execution_count": 0,
      "outputs": [
        {
          "output_type": "stream",
          "text": [
            "Train on 60000 samples\n",
            "Epoch 1/10\n",
            "60000/60000 [==============================] - 42s 699us/sample - loss: 0.4489 - accuracy: 0.8349\n",
            "Epoch 2/10\n",
            "60000/60000 [==============================] - 42s 699us/sample - loss: 0.3424 - accuracy: 0.8749\n",
            "Epoch 3/10\n",
            "60000/60000 [==============================] - 42s 703us/sample - loss: 0.3012 - accuracy: 0.8895\n",
            "Epoch 4/10\n",
            "60000/60000 [==============================] - 42s 702us/sample - loss: 0.2737 - accuracy: 0.8988\n",
            "Epoch 5/10\n",
            "60000/60000 [==============================] - 42s 697us/sample - loss: 0.2534 - accuracy: 0.9062\n",
            "Epoch 6/10\n",
            "60000/60000 [==============================] - 42s 694us/sample - loss: 0.2362 - accuracy: 0.9123\n",
            "Epoch 7/10\n",
            "60000/60000 [==============================] - 42s 694us/sample - loss: 0.2201 - accuracy: 0.9186\n",
            "Epoch 8/10\n",
            "60000/60000 [==============================] - 41s 689us/sample - loss: 0.2087 - accuracy: 0.9208\n",
            "Epoch 9/10\n",
            "60000/60000 [==============================] - 42s 692us/sample - loss: 0.1967 - accuracy: 0.9257\n",
            "Epoch 10/10\n",
            "60000/60000 [==============================] - 42s 694us/sample - loss: 0.1859 - accuracy: 0.9303\n"
          ],
          "name": "stdout"
        },
        {
          "output_type": "execute_result",
          "data": {
            "text/plain": [
              "<tensorflow.python.keras.callbacks.History at 0x7f612211cb70>"
            ]
          },
          "metadata": {
            "tags": []
          },
          "execution_count": 16
        }
      ]
    },
    {
      "cell_type": "code",
      "metadata": {
        "id": "0xxiql-evlTa",
        "colab_type": "code",
        "outputId": "4ad4fb90-29b1-4a27-e2c7-636fc7ca6c01",
        "colab": {
          "base_uri": "https://localhost:8080/",
          "height": 69
        }
      },
      "source": [
        "test_loss, test_acc = model.evaluate(test_images,  test_labels, verbose=2)\n",
        "\n",
        "print('\\nTest accuracy:', test_acc)"
      ],
      "execution_count": 0,
      "outputs": [
        {
          "output_type": "stream",
          "text": [
            "10000/10000 - 3s - loss: 0.2922 - accuracy: 0.9015\n",
            "\n",
            "Test accuracy: 0.9015\n"
          ],
          "name": "stdout"
        }
      ]
    },
    {
      "cell_type": "code",
      "metadata": {
        "id": "gifd5sA7voVf",
        "colab_type": "code",
        "colab": {}
      },
      "source": [
        "predictions = model.predict(test_images)"
      ],
      "execution_count": 0,
      "outputs": []
    },
    {
      "cell_type": "code",
      "metadata": {
        "id": "_aXSXcR6vqrx",
        "colab_type": "code",
        "outputId": "ffd61348-1457-4293-da17-46a9adf6fc4d",
        "colab": {
          "base_uri": "https://localhost:8080/",
          "height": 69
        }
      },
      "source": [
        "predictions[5]"
      ],
      "execution_count": 0,
      "outputs": [
        {
          "output_type": "execute_result",
          "data": {
            "text/plain": [
              "array([3.1661056e-11, 1.0000000e+00, 3.8591072e-14, 2.4594056e-11,\n",
              "       2.0418065e-11, 1.6306433e-17, 1.5936797e-11, 2.0794219e-23,\n",
              "       5.8939811e-11, 2.8111456e-23], dtype=float32)"
            ]
          },
          "metadata": {
            "tags": []
          },
          "execution_count": 409
        }
      ]
    },
    {
      "cell_type": "code",
      "metadata": {
        "id": "Yeg9U7XavtEi",
        "colab_type": "code",
        "outputId": "b074fce1-419b-4e6f-b1d9-829cf516b65e",
        "colab": {
          "base_uri": "https://localhost:8080/",
          "height": 35
        }
      },
      "source": [
        "np.argmax(predictions[5])"
      ],
      "execution_count": 0,
      "outputs": [
        {
          "output_type": "execute_result",
          "data": {
            "text/plain": [
              "1"
            ]
          },
          "metadata": {
            "tags": []
          },
          "execution_count": 410
        }
      ]
    },
    {
      "cell_type": "code",
      "metadata": {
        "id": "srseQeXZvxMR",
        "colab_type": "code",
        "outputId": "1f9123b6-2fd3-42c7-85a6-c229368e82e4",
        "colab": {
          "base_uri": "https://localhost:8080/",
          "height": 35
        }
      },
      "source": [
        "test_labels[5]"
      ],
      "execution_count": 0,
      "outputs": [
        {
          "output_type": "execute_result",
          "data": {
            "text/plain": [
              "1"
            ]
          },
          "metadata": {
            "tags": []
          },
          "execution_count": 412
        }
      ]
    },
    {
      "cell_type": "markdown",
      "metadata": {
        "id": "NivdsaBcDEck",
        "colab_type": "text"
      },
      "source": [
        "Testing with MNIST\n"
      ]
    },
    {
      "cell_type": "code",
      "metadata": {
        "id": "O91LkzDNDEGF",
        "colab_type": "code",
        "colab": {}
      },
      "source": [
        "try:\n",
        "  # %tensorflow_version only exists in Colab.\n",
        "  %tensorflow_version 2.x\n",
        "except Exception:\n",
        "  pass"
      ],
      "execution_count": 0,
      "outputs": []
    },
    {
      "cell_type": "code",
      "metadata": {
        "id": "z-VlTOgdDMx_",
        "colab_type": "code",
        "outputId": "9bc8f731-3b2f-44d8-b74c-9a60420ccb5f",
        "colab": {
          "base_uri": "https://localhost:8080/",
          "height": 35
        }
      },
      "source": [
        "from __future__ import absolute_import, division, print_function, unicode_literals\n",
        "\n",
        "# TensorFlow and tf.keras\n",
        "import tensorflow as tf\n",
        "from tensorflow import keras\n",
        "\n",
        "# Helper libraries\n",
        "import numpy as np\n",
        "import matplotlib.pyplot as plt\n",
        "\n",
        "print(tf.__version__)"
      ],
      "execution_count": 0,
      "outputs": [
        {
          "output_type": "stream",
          "text": [
            "2.1.0\n"
          ],
          "name": "stdout"
        }
      ]
    },
    {
      "cell_type": "code",
      "metadata": {
        "id": "e-TSnDqSDQbR",
        "colab_type": "code",
        "colab": {}
      },
      "source": [
        "mnist = keras.datasets.mnist\n",
        "\n",
        "(train_images, train_labels), (test_images, test_labels) = mnist.load_data()\n"
      ],
      "execution_count": 0,
      "outputs": []
    },
    {
      "cell_type": "code",
      "metadata": {
        "id": "q_TImeyIDeQo",
        "colab_type": "code",
        "outputId": "613a8bd9-a7b7-4d55-9417-5a1db53c025c",
        "colab": {
          "base_uri": "https://localhost:8080/",
          "height": 87
        }
      },
      "source": [
        "print(train_images.shape)\n",
        "print(train_labels.shape)\n",
        "print(test_images.shape)\n",
        "print(test_labels.shape)"
      ],
      "execution_count": 0,
      "outputs": [
        {
          "output_type": "stream",
          "text": [
            "(60000, 28, 28)\n",
            "(60000,)\n",
            "(10000, 28, 28)\n",
            "(10000,)\n"
          ],
          "name": "stdout"
        }
      ]
    },
    {
      "cell_type": "code",
      "metadata": {
        "id": "IQqLYkBEDdLN",
        "colab_type": "code",
        "outputId": "f76be5fe-c58a-4570-d668-65d673483056",
        "colab": {
          "base_uri": "https://localhost:8080/",
          "height": 52
        }
      },
      "source": [
        "npad=((0,0),(2,2),(2,2))\n",
        "train_images=np.pad(train_images,npad,mode='constant')\n",
        "test_images=np.pad(test_images, npad, mode='constant')\n",
        "print(train_images.shape)\n",
        "print(test_images.shape)"
      ],
      "execution_count": 0,
      "outputs": [
        {
          "output_type": "stream",
          "text": [
            "(60000, 32, 32)\n",
            "(10000, 32, 32)\n"
          ],
          "name": "stdout"
        }
      ]
    },
    {
      "cell_type": "code",
      "metadata": {
        "id": "Co9rtr-eEDgf",
        "colab_type": "code",
        "outputId": "bfbdd97b-0dfd-4194-889a-3a55f83af353",
        "colab": {
          "base_uri": "https://localhost:8080/",
          "height": 283
        }
      },
      "source": [
        "plt.figure()\n",
        "plt.imshow(train_images[10])\n",
        "plt.show"
      ],
      "execution_count": 0,
      "outputs": [
        {
          "output_type": "execute_result",
          "data": {
            "text/plain": [
              "<function matplotlib.pyplot.show>"
            ]
          },
          "metadata": {
            "tags": []
          },
          "execution_count": 377
        },
        {
          "output_type": "display_data",
          "data": {
            "image/png": "[encoded data removed]",
            "text/plain": [
              "<Figure size 432x288 with 1 Axes>"
            ]
          },
          "metadata": {
            "tags": []
          }
        }
      ]
    },
    {
      "cell_type": "code",
      "metadata": {
        "id": "6z50rRaoKdNe",
        "colab_type": "code",
        "outputId": "866813b3-be15-4307-f83c-3c9dd961d7cc",
        "colab": {
          "base_uri": "https://localhost:8080/",
          "height": 283
        }
      },
      "source": [
        "plt.figure()\n",
        "plt.imshow(test_images[10])\n",
        "plt.show"
      ],
      "execution_count": 0,
      "outputs": [
        {
          "output_type": "execute_result",
          "data": {
            "text/plain": [
              "<function matplotlib.pyplot.show>"
            ]
          },
          "metadata": {
            "tags": []
          },
          "execution_count": 378
        },
        {
          "output_type": "display_data",
          "data": {
            "image/png": "[encoded data removed]",
            "text/plain": [
              "<Figure size 432x288 with 1 Axes>"
            ]
          },
          "metadata": {
            "tags": []
          }
        }
      ]
    },
    {
      "cell_type": "code",
      "metadata": {
        "id": "mpZbnF8-D9sk",
        "colab_type": "code",
        "colab": {}
      },
      "source": [
        "train_images = train_images / 255.0\n",
        "\n",
        "test_images = test_images / 255.0"
      ],
      "execution_count": 0,
      "outputs": []
    },
    {
      "cell_type": "code",
      "metadata": {
        "id": "N6rjHVhcGxFZ",
        "colab_type": "code",
        "colab": {}
      },
      "source": [
        "train_images = train_images[..., tf.newaxis]\n",
        "test_images = test_images[...,tf.newaxis]"
      ],
      "execution_count": 0,
      "outputs": []
    },
    {
      "cell_type": "code",
      "metadata": {
        "id": "cGRE41dXEqOj",
        "colab_type": "code",
        "colab": {}
      },
      "source": [
        "                \n",
        "model=keras.Sequential()\n",
        "model.add(keras.layers.Conv2D(filters=6,kernel_size=(5,5),strides=(1,1), activation='relu',input_shape=(32,32,1)))\n",
        "model.add(keras.layers.MaxPooling2D(pool_size=(2,2),strides=(2,2)))\n",
        "model.add(keras.layers.Conv2D(filters=16,kernel_size=(5,5),strides=(1,1), activation='relu'))\n",
        "model.add(keras.layers.MaxPooling2D(pool_size=(2,2),strides=(2,2)))\n",
        "model.add(keras.layers.Flatten())\n",
        "model.add(keras.layers.Dense(units=120, activation='relu'))\n",
        "model.add(keras.layers.Dense(units=84, activation='relu'))\n",
        "model.add(keras.layers.Dense(units=10, activation='softmax'))"
      ],
      "execution_count": 0,
      "outputs": []
    },
    {
      "cell_type": "code",
      "metadata": {
        "id": "mxysH-NrFZkW",
        "colab_type": "code",
        "colab": {}
      },
      "source": [
        "model.compile(optimizer='adam',\n",
        "              loss='sparse_categorical_crossentropy',\n",
        "              metrics=['accuracy'])"
      ],
      "execution_count": 0,
      "outputs": []
    },
    {
      "cell_type": "code",
      "metadata": {
        "id": "84sBdYrPFdxo",
        "colab_type": "code",
        "outputId": "424d16de-17d9-42da-cb68-8735d20c9dae",
        "colab": {
          "base_uri": "https://localhost:8080/",
          "height": 399
        }
      },
      "source": [
        "model.fit(train_images, train_labels, epochs=10)"
      ],
      "execution_count": 0,
      "outputs": [
        {
          "output_type": "stream",
          "text": [
            "Train on 60000 samples\n",
            "Epoch 1/10\n",
            "60000/60000 [==============================] - 41s 691us/sample - loss: 0.1848 - accuracy: 0.9427\n",
            "Epoch 2/10\n",
            "60000/60000 [==============================] - 41s 682us/sample - loss: 0.0619 - accuracy: 0.9812\n",
            "Epoch 3/10\n",
            "60000/60000 [==============================] - 41s 688us/sample - loss: 0.0428 - accuracy: 0.9865\n",
            "Epoch 4/10\n",
            "60000/60000 [==============================] - 41s 690us/sample - loss: 0.0331 - accuracy: 0.9898\n",
            "Epoch 5/10\n",
            "60000/60000 [==============================] - 41s 682us/sample - loss: 0.0268 - accuracy: 0.9915\n",
            "Epoch 6/10\n",
            "60000/60000 [==============================] - 41s 689us/sample - loss: 0.0232 - accuracy: 0.9925\n",
            "Epoch 7/10\n",
            "60000/60000 [==============================] - 41s 681us/sample - loss: 0.0184 - accuracy: 0.9938\n",
            "Epoch 8/10\n",
            "60000/60000 [==============================] - 41s 681us/sample - loss: 0.0163 - accuracy: 0.9948\n",
            "Epoch 9/10\n",
            "60000/60000 [==============================] - 41s 683us/sample - loss: 0.0162 - accuracy: 0.9950\n",
            "Epoch 10/10\n",
            "60000/60000 [==============================] - 41s 683us/sample - loss: 0.0132 - accuracy: 0.9959\n"
          ],
          "name": "stdout"
        },
        {
          "output_type": "execute_result",
          "data": {
            "text/plain": [
              "<tensorflow.python.keras.callbacks.History at 0x7fb2907e0f60>"
            ]
          },
          "metadata": {
            "tags": []
          },
          "execution_count": 383
        }
      ]
    },
    {
      "cell_type": "code",
      "metadata": {
        "id": "3T1nlPT4FhK8",
        "colab_type": "code",
        "outputId": "74bac9e1-58bf-4fdd-aaa3-3d1b33bcbac6",
        "colab": {
          "base_uri": "https://localhost:8080/",
          "height": 69
        }
      },
      "source": [
        "test_loss, test_acc = model.evaluate(test_images,  test_labels, verbose=2)\n",
        "\n",
        "print('\\nTest accuracy:', test_acc)"
      ],
      "execution_count": 0,
      "outputs": [
        {
          "output_type": "stream",
          "text": [
            "10000/10000 - 3s - loss: 0.0328 - accuracy: 0.9906\n",
            "\n",
            "Test accuracy: 0.9906\n"
          ],
          "name": "stdout"
        }
      ]
    },
    {
      "cell_type": "code",
      "metadata": {
        "id": "sIcLwIv6IzLL",
        "colab_type": "code",
        "colab": {}
      },
      "source": [
        "predictions = model.predict(test_images)"
      ],
      "execution_count": 0,
      "outputs": []
    },
    {
      "cell_type": "code",
      "metadata": {
        "id": "FhZkweNvJPs5",
        "colab_type": "code",
        "outputId": "ff575e11-63c3-4bb1-811f-4925690e41a2",
        "colab": {
          "base_uri": "https://localhost:8080/",
          "height": 69
        }
      },
      "source": [
        "predictions[10]"
      ],
      "execution_count": 0,
      "outputs": [
        {
          "output_type": "execute_result",
          "data": {
            "text/plain": [
              "array([1.0000000e+00, 4.5235281e-16, 1.3145405e-15, 1.3987892e-20,\n",
              "       1.4615118e-14, 1.1584582e-17, 4.9102055e-16, 2.3678072e-17,\n",
              "       1.8017399e-15, 1.2661588e-13], dtype=float32)"
            ]
          },
          "metadata": {
            "tags": []
          },
          "execution_count": 386
        }
      ]
    },
    {
      "cell_type": "code",
      "metadata": {
        "id": "8GqTp5nrJJuE",
        "colab_type": "code",
        "outputId": "d8df129e-2740-4117-fb4a-b4d75de790e9",
        "colab": {
          "base_uri": "https://localhost:8080/",
          "height": 35
        }
      },
      "source": [
        "np.argmax(predictions[10])"
      ],
      "execution_count": 0,
      "outputs": [
        {
          "output_type": "execute_result",
          "data": {
            "text/plain": [
              "0"
            ]
          },
          "metadata": {
            "tags": []
          },
          "execution_count": 387
        }
      ]
    },
    {
      "cell_type": "code",
      "metadata": {
        "id": "eg7e5A5KJZUe",
        "colab_type": "code",
        "outputId": "5eb76969-d9b6-42fc-aa7c-e1ee0fa9b7da",
        "colab": {
          "base_uri": "https://localhost:8080/",
          "height": 35
        }
      },
      "source": [
        "test_labels[10]"
      ],
      "execution_count": 0,
      "outputs": [
        {
          "output_type": "execute_result",
          "data": {
            "text/plain": [
              "0"
            ]
          },
          "metadata": {
            "tags": []
          },
          "execution_count": 391
        }
      ]
    }
  ]
}
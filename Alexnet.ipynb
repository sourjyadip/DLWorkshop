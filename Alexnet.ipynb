{
  "nbformat": 4,
  "nbformat_minor": 0,
  "metadata": {
    "colab": {
      "name": "Alexnet.ipynb",
      "provenance": [],
      "collapsed_sections": []
    },
    "kernelspec": {
      "name": "python3",
      "display_name": "Python 3"
    }
  },
  "cells": [
    {
      "cell_type": "code",
      "metadata": {
        "id": "d3qVRmtdokbh",
        "colab_type": "code",
        "colab": {}
      },
      "source": [
        "try:\n",
        "  # %tensorflow_version only exists in Colab.\n",
        "  %tensorflow_version 2.x\n",
        "except Exception:\n",
        "  pass"
      ],
      "execution_count": 0,
      "outputs": []
    },
    {
      "cell_type": "code",
      "metadata": {
        "id": "t0BBBKuwF8q7",
        "colab_type": "code",
        "colab": {}
      },
      "source": [
        "import keras\n",
        "from keras.models import Sequential\n",
        "from keras.layers import Dense, Activation, Dropout, Flatten, Conv2D, MaxPooling2D\n",
        "from keras.layers.normalization import BatchNormalization"
      ],
      "execution_count": 0,
      "outputs": []
    },
    {
      "cell_type": "code",
      "metadata": {
        "id": "oHtpNKRgF88X",
        "colab_type": "code",
        "colab": {
          "base_uri": "https://localhost:8080/",
          "height": 36
        },
        "outputId": "162cb3f8-020e-4ab8-f45f-987f31f8e17e"
      },
      "source": [
        "import tensorflow as tf\n",
        "from tensorflow import keras\n",
        "print(tf.__version__)"
      ],
      "execution_count": 24,
      "outputs": [
        {
          "output_type": "stream",
          "text": [
            "2.1.0\n"
          ],
          "name": "stdout"
        }
      ]
    },
    {
      "cell_type": "code",
      "metadata": {
        "id": "TC1uksGhmJV6",
        "colab_type": "code",
        "colab": {}
      },
      "source": [
        "cifar = keras.datasets.cifar10\n",
        "\n",
        "(train_images, train_labels), (test_images, test_labels) = cifar.load_data()\n"
      ],
      "execution_count": 0,
      "outputs": []
    },
    {
      "cell_type": "code",
      "metadata": {
        "id": "bC4WXRpCtN8w",
        "colab_type": "code",
        "colab": {
          "base_uri": "https://localhost:8080/",
          "height": 54
        },
        "outputId": "b710dafd-77b7-4b04-e9b7-c1243863c3d8"
      },
      "source": [
        "print(train_images.shape)\n",
        "print(test_images.shape)"
      ],
      "execution_count": 27,
      "outputs": [
        {
          "output_type": "stream",
          "text": [
            "(50000, 32, 32, 3)\n",
            "(10000, 32, 32, 3)\n"
          ],
          "name": "stdout"
        }
      ]
    },
    {
      "cell_type": "code",
      "metadata": {
        "id": "nSwst0Fq21Wp",
        "colab_type": "code",
        "colab": {
          "base_uri": "https://localhost:8080/",
          "height": 54
        },
        "outputId": "b24566b1-c897-43d9-9f3d-e9200439f29c"
      },
      "source": [
        "train_x=train_images[0:1000]\n",
        "print(train_x.shape)\n",
        "train_y=train_labels[0:1000]\n",
        "print(train_y.shape)"
      ],
      "execution_count": 28,
      "outputs": [
        {
          "output_type": "stream",
          "text": [
            "(1000, 32, 32, 3)\n",
            "(1000, 1)\n"
          ],
          "name": "stdout"
        }
      ]
    },
    {
      "cell_type": "code",
      "metadata": {
        "id": "LBUVNDdgyKxl",
        "colab_type": "code",
        "colab": {}
      },
      "source": [
        "image_size=227\n",
        "def pre_process_image(train_x,train_y):\n",
        "  train_x=tf.cast(train_x,tf.float32)\n",
        "  train_x=train_x/255.0\n",
        "  train_x=tf.image.resize(train_x,(image_size,image_size))\n",
        "  return train_x,train_y"
      ],
      "execution_count": 0,
      "outputs": []
    },
    {
      "cell_type": "code",
      "metadata": {
        "id": "axVjQYdWy_0W",
        "colab_type": "code",
        "colab": {}
      },
      "source": [
        "train_images,train_labels= pre_process_image(train_x,train_y)"
      ],
      "execution_count": 0,
      "outputs": []
    },
    {
      "cell_type": "code",
      "metadata": {
        "id": "qqeWVoDjzl_6",
        "colab_type": "code",
        "colab": {
          "base_uri": "https://localhost:8080/",
          "height": 36
        },
        "outputId": "412a1f33-d062-4fd9-92e3-6668efa9dcfa"
      },
      "source": [
        "print(train_images.shape)"
      ],
      "execution_count": 32,
      "outputs": [
        {
          "output_type": "stream",
          "text": [
            "(1000, 227, 227, 3)\n"
          ],
          "name": "stdout"
        }
      ]
    },
    {
      "cell_type": "code",
      "metadata": {
        "id": "k7fzFA3AGXFW",
        "colab_type": "code",
        "colab": {}
      },
      "source": [
        " #(3) Create a sequential model\n",
        "model = keras.Sequential()\n",
        "\n",
        "# 1st Convolutional Layer\n",
        "model.add(keras.layers.Conv2D(filters=96, input_shape=(227,227,3), kernel_size=(11,11), strides=(4,4), activation='relu',padding='valid'))\n",
        "#model.add(Activation('relu'))\n",
        "# Pooling \n",
        "model.add(keras.layers.MaxPooling2D(pool_size=(2,2), strides=(2,2), padding='valid'))\n",
        "# Batch Normalisation before passing it to the next layer\n",
        "model.add(keras.layers.BatchNormalization())\n",
        "\n",
        "# 2nd Convolutional Layer\n",
        "model.add(keras.layers.Conv2D(filters=256, kernel_size=(5,5), strides=(1,1), activation='relu',padding='same'))\n",
        "model.add(keras.layers.MaxPooling2D(pool_size=(2,2), strides=(2,2), padding='valid'))\n",
        "model.add(keras.layers.BatchNormalization())\n",
        "\n",
        "# 3rd Convolutional Layer\n",
        "model.add(keras.layers.Conv2D(filters=384, kernel_size=(3,3), strides=(1,1), activation='relu',padding='same'))\n",
        "model.add(keras.layers.BatchNormalization())\n",
        "\n",
        "# 4th Convolutional Layer\n",
        "model.add(keras.layers.Conv2D(filters=384, kernel_size=(3,3), strides=(1,1), activation='relu',padding='same'))\n",
        "model.add(keras.layers.BatchNormalization())\n",
        "\n",
        "# 5th Convolutional Layer\n",
        "model.add(keras.layers.Conv2D(filters=256, kernel_size=(3,3), strides=(1,1), activation='relu',padding='same'))\n",
        "model.add(keras.layers.MaxPooling2D(pool_size=(2,2), strides=(2,2), padding='valid'))\n",
        "model.add(keras.layers.BatchNormalization())\n",
        "\n",
        "# Passing it to a dense layer\n",
        "model.add(keras.layers.Flatten())\n",
        "# 1st Dense Layer\n",
        "model.add(keras.layers.Dense(4096, input_shape=(224,224,3), activation='relu'))\n",
        "# Add Dropout to prevent overfitting\n",
        "model.add(keras.layers.Dropout(0.4))\n",
        "# Batch Normalisation\n",
        "model.add(keras.layers.BatchNormalization())\n",
        "\n",
        "# 2nd Dense Layer\n",
        "model.add(keras.layers.Dense(4096, activation='relu'))\n",
        "# Add Dropout to prevent overfitting\n",
        "model.add(keras.layers.Dropout(0.4))\n",
        "# Batch Normalisation\n",
        "model.add(keras.layers.BatchNormalization())\n",
        "\n",
        "# 3rd Dense Layer\n",
        "model.add(keras.layers.Dense(1000, activation='relu'))\n",
        "# Add Dropout to prevent overfitting\n",
        "model.add(keras.layers.Dropout(0.4))\n",
        "# Batch Normalisation\n",
        "model.add(keras.layers.BatchNormalization())\n",
        "\n",
        "# Output Layer\n",
        "model.add(keras.layers.Dense(17, activation='softmax'))"
      ],
      "execution_count": 0,
      "outputs": []
    },
    {
      "cell_type": "code",
      "metadata": {
        "id": "znwaI-hxGbKb",
        "colab_type": "code",
        "colab": {}
      },
      "source": [
        "model.summary()"
      ],
      "execution_count": 0,
      "outputs": []
    },
    {
      "cell_type": "code",
      "metadata": {
        "id": "_2Owhcy6HFgp",
        "colab_type": "code",
        "colab": {}
      },
      "source": [
        "# (4) Compile \n",
        "model.compile(loss='sparse_categorical_crossentropy', optimizer='adam', metrics=['accuracy'])"
      ],
      "execution_count": 0,
      "outputs": []
    },
    {
      "cell_type": "code",
      "metadata": {
        "id": "nXkWNUHvJ5Fa",
        "colab_type": "code",
        "colab": {
          "base_uri": "https://localhost:8080/",
          "height": 129
        },
        "outputId": "6cf1e215-ceb4-4ea5-e741-1ef935f422eb"
      },
      "source": [
        "# (5) Train\n",
        "model.fit(train_images, train_labels, epochs=2)\n",
        "#model.fit(x, y, batch_size=64, epochs=1, verbose=1, validation_split=0.2, shuffle=True)"
      ],
      "execution_count": 36,
      "outputs": [
        {
          "output_type": "stream",
          "text": [
            "Train on 1000 samples\n",
            "Epoch 1/2\n",
            "1000/1000 [==============================] - 148s 148ms/sample - loss: 3.3897 - accuracy: 0.1840\n",
            "Epoch 2/2\n",
            "1000/1000 [==============================] - 148s 148ms/sample - loss: 2.4624 - accuracy: 0.2820\n"
          ],
          "name": "stdout"
        },
        {
          "output_type": "execute_result",
          "data": {
            "text/plain": [
              "<tensorflow.python.keras.callbacks.History at 0x7fb3ee837630>"
            ]
          },
          "metadata": {
            "tags": []
          },
          "execution_count": 36
        }
      ]
    },
    {
      "cell_type": "code",
      "metadata": {
        "id": "KtkZ5EpwXgIL",
        "colab_type": "code",
        "colab": {}
      },
      "source": [
        "# Save the model\n",
        "model.save('path_to_my_model.h5')"
      ],
      "execution_count": 0,
      "outputs": []
    },
    {
      "cell_type": "code",
      "metadata": {
        "id": "0_grVUTOXia0",
        "colab_type": "code",
        "colab": {}
      },
      "source": [
        "# Recreate the exact same model purely from the file\n",
        "new_model = keras.models.load_model('path_to_my_model.h5')"
      ],
      "execution_count": 0,
      "outputs": []
    },
    {
      "cell_type": "code",
      "metadata": {
        "id": "aQ5o4QhXXpQx",
        "colab_type": "code",
        "outputId": "d3b84266-1e1a-498a-b85b-264ccf927e25",
        "colab": {
          "base_uri": "https://localhost:8080/",
          "height": 1000
        }
      },
      "source": [
        "new_model.summary()"
      ],
      "execution_count": 39,
      "outputs": [
        {
          "output_type": "stream",
          "text": [
            "Model: \"sequential_2\"\n",
            "_________________________________________________________________\n",
            "Layer (type)                 Output Shape              Param #   \n",
            "=================================================================\n",
            "conv2d_10 (Conv2D)           (None, 55, 55, 96)        34944     \n",
            "_________________________________________________________________\n",
            "max_pooling2d_6 (MaxPooling2 (None, 27, 27, 96)        0         \n",
            "_________________________________________________________________\n",
            "batch_normalization_16 (Batc (None, 27, 27, 96)        384       \n",
            "_________________________________________________________________\n",
            "conv2d_11 (Conv2D)           (None, 27, 27, 256)       614656    \n",
            "_________________________________________________________________\n",
            "max_pooling2d_7 (MaxPooling2 (None, 13, 13, 256)       0         \n",
            "_________________________________________________________________\n",
            "batch_normalization_17 (Batc (None, 13, 13, 256)       1024      \n",
            "_________________________________________________________________\n",
            "conv2d_12 (Conv2D)           (None, 13, 13, 384)       885120    \n",
            "_________________________________________________________________\n",
            "batch_normalization_18 (Batc (None, 13, 13, 384)       1536      \n",
            "_________________________________________________________________\n",
            "conv2d_13 (Conv2D)           (None, 13, 13, 384)       1327488   \n",
            "_________________________________________________________________\n",
            "batch_normalization_19 (Batc (None, 13, 13, 384)       1536      \n",
            "_________________________________________________________________\n",
            "conv2d_14 (Conv2D)           (None, 13, 13, 256)       884992    \n",
            "_________________________________________________________________\n",
            "max_pooling2d_8 (MaxPooling2 (None, 6, 6, 256)         0         \n",
            "_________________________________________________________________\n",
            "batch_normalization_20 (Batc (None, 6, 6, 256)         1024      \n",
            "_________________________________________________________________\n",
            "flatten_2 (Flatten)          (None, 9216)              0         \n",
            "_________________________________________________________________\n",
            "dense_8 (Dense)              (None, 4096)              37752832  \n",
            "_________________________________________________________________\n",
            "dropout_6 (Dropout)          (None, 4096)              0         \n",
            "_________________________________________________________________\n",
            "batch_normalization_21 (Batc (None, 4096)              16384     \n",
            "_________________________________________________________________\n",
            "dense_9 (Dense)              (None, 4096)              16781312  \n",
            "_________________________________________________________________\n",
            "dropout_7 (Dropout)          (None, 4096)              0         \n",
            "_________________________________________________________________\n",
            "batch_normalization_22 (Batc (None, 4096)              16384     \n",
            "_________________________________________________________________\n",
            "dense_10 (Dense)             (None, 1000)              4097000   \n",
            "_________________________________________________________________\n",
            "dropout_8 (Dropout)          (None, 1000)              0         \n",
            "_________________________________________________________________\n",
            "batch_normalization_23 (Batc (None, 1000)              4000      \n",
            "_________________________________________________________________\n",
            "dense_11 (Dense)             (None, 17)                17017     \n",
            "=================================================================\n",
            "Total params: 62,437,633\n",
            "Trainable params: 62,416,497\n",
            "Non-trainable params: 21,136\n",
            "_________________________________________________________________\n"
          ],
          "name": "stdout"
        }
      ]
    }
  ]
}